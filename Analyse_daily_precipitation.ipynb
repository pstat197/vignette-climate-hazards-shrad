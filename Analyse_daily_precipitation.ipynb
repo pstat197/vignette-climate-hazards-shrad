{
 "cells": [
  {
   "cell_type": "code",
   "execution_count": 15,
   "metadata": {},
   "outputs": [],
   "source": [
    "from __future__ import division\n",
    "import xarray as xr\n",
    "import matplotlib.pyplot as plt\n",
    "import matplotlib as mpl\n",
    "import colorcet as cc\n",
    "from glob import glob\n",
    "from dateutil import relativedelta\n",
    "from datetime import datetime, date\n",
    "import os.path as op\n",
    "import calendar\n",
    "from dask.diagnostics import ProgressBar\n",
    "import pandas as pd\n",
    "import numpy as np\n",
    "from Shrad_modules import MAKEDIR\n",
    "import time"
   ]
  },
  {
   "cell_type": "code",
   "execution_count": 44,
   "metadata": {},
   "outputs": [],
   "source": [
    "RFE_template = '/home/chg-shrad/DATA/Precipitation_Global/RFE/Daily/Daily_RFE_*{:02d}.nc'\n",
    "ARC_template = '/home/chg-shrad/DATA/Precipitation_Global/ARC/Daily/Daily_ARC_*{:02d}.nc'\n",
    "IMERG_template = '/home/chg-shrad/DATA/Precipitation_Global/IMERG/Africa/Daily_combined/Original/3B-DAY.MS.MRG.3IMERG.*{:02d}.nc4'\n",
    "CHIRPS_template = '/home/chg-shrad/DATA/Precipitation_Global/CHIRPS/v2.0/Africa/Daily/p1/Daily_CHIRPS_*{:02d}.nc'\n",
    "LANDMASK = xr.open_dataset('/home/chg-shrad/DATA/Precipitation_Global/CHIRPS/v2.0/Africa/Daily/p1/Daily_CHIRPS_198101.nc') ## Chirps data is used to mask ocean from other dataset\n",
    "LANDMASK = LANDMASK.isel(time=0)"
   ]
  },
  {
   "cell_type": "code",
   "execution_count": 17,
   "metadata": {},
   "outputs": [],
   "source": [
    "## Average number of days with different intensity"
   ]
  },
  {
   "cell_type": "code",
   "execution_count": 31,
   "metadata": {},
   "outputs": [
    {
     "name": "stdout",
     "output_type": "stream",
     "text": [
      "Reading /home/chg-shrad/DATA/Precipitation_Global/RFE/Daily/Daily_RFE_*01.nc\n",
      "Reading /home/chg-shrad/DATA/Precipitation_Global/IMERG/Africa/Daily_combined/ARC_grid/3B-DAY.MS.MRG.3IMERG.*01.nc4\n",
      "Writing /home/chg-shrad/Shrad_misc_work/Misc_projects/2019/SERVIR_AST_WA/Daily_precipitation/Data/IMERG_gt_05_for_RFE_leq_00_mon_01.nc\n"
     ]
    },
    {
     "name": "stderr",
     "output_type": "stream",
     "text": [
      "/home/shrad/miniconda3/envs/py37-defaults/lib/python3.7/site-packages/dask/core.py:119: RuntimeWarning: invalid value encountered in greater\n",
      "  return func(*args2)\n"
     ]
    },
    {
     "name": "stdout",
     "output_type": "stream",
     "text": [
      "CPU times: user 0 ns, sys: 0 ns, total: 0 ns\n",
      "Wall time: 35.4 s\n",
      "Reading /home/chg-shrad/DATA/Precipitation_Global/RFE/Daily/Daily_RFE_*02.nc\n",
      "Reading /home/chg-shrad/DATA/Precipitation_Global/IMERG/Africa/Daily_combined/ARC_grid/3B-DAY.MS.MRG.3IMERG.*02.nc4\n",
      "Writing /home/chg-shrad/Shrad_misc_work/Misc_projects/2019/SERVIR_AST_WA/Daily_precipitation/Data/IMERG_gt_05_for_RFE_leq_00_mon_02.nc\n"
     ]
    },
    {
     "name": "stderr",
     "output_type": "stream",
     "text": [
      "/home/shrad/miniconda3/envs/py37-defaults/lib/python3.7/site-packages/dask/core.py:119: RuntimeWarning: invalid value encountered in greater\n",
      "  return func(*args2)\n"
     ]
    },
    {
     "name": "stdout",
     "output_type": "stream",
     "text": [
      "CPU times: user 0 ns, sys: 0 ns, total: 0 ns\n",
      "Wall time: 38 s\n",
      "Reading /home/chg-shrad/DATA/Precipitation_Global/RFE/Daily/Daily_RFE_*03.nc\n",
      "Reading /home/chg-shrad/DATA/Precipitation_Global/IMERG/Africa/Daily_combined/ARC_grid/3B-DAY.MS.MRG.3IMERG.*03.nc4\n",
      "Writing /home/chg-shrad/Shrad_misc_work/Misc_projects/2019/SERVIR_AST_WA/Daily_precipitation/Data/IMERG_gt_05_for_RFE_leq_00_mon_03.nc\n"
     ]
    },
    {
     "name": "stderr",
     "output_type": "stream",
     "text": [
      "/home/shrad/miniconda3/envs/py37-defaults/lib/python3.7/site-packages/dask/core.py:119: RuntimeWarning: invalid value encountered in greater\n",
      "  return func(*args2)\n"
     ]
    },
    {
     "name": "stdout",
     "output_type": "stream",
     "text": [
      "CPU times: user 0 ns, sys: 0 ns, total: 0 ns\n",
      "Wall time: 40.8 s\n",
      "Reading /home/chg-shrad/DATA/Precipitation_Global/RFE/Daily/Daily_RFE_*04.nc\n",
      "Reading /home/chg-shrad/DATA/Precipitation_Global/IMERG/Africa/Daily_combined/ARC_grid/3B-DAY.MS.MRG.3IMERG.*04.nc4\n",
      "Writing /home/chg-shrad/Shrad_misc_work/Misc_projects/2019/SERVIR_AST_WA/Daily_precipitation/Data/IMERG_gt_05_for_RFE_leq_00_mon_04.nc\n"
     ]
    },
    {
     "name": "stderr",
     "output_type": "stream",
     "text": [
      "/home/shrad/miniconda3/envs/py37-defaults/lib/python3.7/site-packages/dask/core.py:119: RuntimeWarning: invalid value encountered in greater\n",
      "  return func(*args2)\n"
     ]
    },
    {
     "name": "stdout",
     "output_type": "stream",
     "text": [
      "CPU times: user 0 ns, sys: 0 ns, total: 0 ns\n",
      "Wall time: 39.2 s\n",
      "Reading /home/chg-shrad/DATA/Precipitation_Global/RFE/Daily/Daily_RFE_*05.nc\n",
      "Reading /home/chg-shrad/DATA/Precipitation_Global/IMERG/Africa/Daily_combined/ARC_grid/3B-DAY.MS.MRG.3IMERG.*05.nc4\n",
      "Writing /home/chg-shrad/Shrad_misc_work/Misc_projects/2019/SERVIR_AST_WA/Daily_precipitation/Data/IMERG_gt_05_for_RFE_leq_00_mon_05.nc\n"
     ]
    },
    {
     "name": "stderr",
     "output_type": "stream",
     "text": [
      "/home/shrad/miniconda3/envs/py37-defaults/lib/python3.7/site-packages/dask/core.py:119: RuntimeWarning: invalid value encountered in greater\n",
      "  return func(*args2)\n"
     ]
    },
    {
     "name": "stdout",
     "output_type": "stream",
     "text": [
      "CPU times: user 0 ns, sys: 0 ns, total: 0 ns\n",
      "Wall time: 37.5 s\n",
      "Reading /home/chg-shrad/DATA/Precipitation_Global/RFE/Daily/Daily_RFE_*06.nc\n",
      "Reading /home/chg-shrad/DATA/Precipitation_Global/IMERG/Africa/Daily_combined/ARC_grid/3B-DAY.MS.MRG.3IMERG.*06.nc4\n",
      "Writing /home/chg-shrad/Shrad_misc_work/Misc_projects/2019/SERVIR_AST_WA/Daily_precipitation/Data/IMERG_gt_05_for_RFE_leq_00_mon_06.nc\n"
     ]
    },
    {
     "name": "stderr",
     "output_type": "stream",
     "text": [
      "/home/shrad/miniconda3/envs/py37-defaults/lib/python3.7/site-packages/dask/core.py:119: RuntimeWarning: invalid value encountered in greater\n",
      "  return func(*args2)\n"
     ]
    },
    {
     "name": "stdout",
     "output_type": "stream",
     "text": [
      "CPU times: user 0 ns, sys: 0 ns, total: 0 ns\n",
      "Wall time: 39.7 s\n",
      "Reading /home/chg-shrad/DATA/Precipitation_Global/RFE/Daily/Daily_RFE_*07.nc\n",
      "Reading /home/chg-shrad/DATA/Precipitation_Global/IMERG/Africa/Daily_combined/ARC_grid/3B-DAY.MS.MRG.3IMERG.*07.nc4\n",
      "Writing /home/chg-shrad/Shrad_misc_work/Misc_projects/2019/SERVIR_AST_WA/Daily_precipitation/Data/IMERG_gt_05_for_RFE_leq_00_mon_07.nc\n"
     ]
    },
    {
     "name": "stderr",
     "output_type": "stream",
     "text": [
      "/home/shrad/miniconda3/envs/py37-defaults/lib/python3.7/site-packages/dask/core.py:119: RuntimeWarning: invalid value encountered in greater\n",
      "  return func(*args2)\n",
      "/home/shrad/miniconda3/envs/py37-defaults/lib/python3.7/site-packages/dask/core.py:119: RuntimeWarning: invalid value encountered in less_equal\n",
      "  return func(*args2)\n"
     ]
    },
    {
     "name": "stdout",
     "output_type": "stream",
     "text": [
      "CPU times: user 0 ns, sys: 0 ns, total: 0 ns\n",
      "Wall time: 48.1 s\n",
      "Reading /home/chg-shrad/DATA/Precipitation_Global/RFE/Daily/Daily_RFE_*08.nc\n",
      "Reading /home/chg-shrad/DATA/Precipitation_Global/IMERG/Africa/Daily_combined/ARC_grid/3B-DAY.MS.MRG.3IMERG.*08.nc4\n",
      "Writing /home/chg-shrad/Shrad_misc_work/Misc_projects/2019/SERVIR_AST_WA/Daily_precipitation/Data/IMERG_gt_05_for_RFE_leq_00_mon_08.nc\n"
     ]
    },
    {
     "name": "stderr",
     "output_type": "stream",
     "text": [
      "/home/shrad/miniconda3/envs/py37-defaults/lib/python3.7/site-packages/dask/core.py:119: RuntimeWarning: invalid value encountered in greater\n",
      "  return func(*args2)\n"
     ]
    },
    {
     "name": "stdout",
     "output_type": "stream",
     "text": [
      "CPU times: user 0 ns, sys: 0 ns, total: 0 ns\n",
      "Wall time: 38.2 s\n",
      "Reading /home/chg-shrad/DATA/Precipitation_Global/RFE/Daily/Daily_RFE_*09.nc\n",
      "Reading /home/chg-shrad/DATA/Precipitation_Global/IMERG/Africa/Daily_combined/ARC_grid/3B-DAY.MS.MRG.3IMERG.*09.nc4\n",
      "Writing /home/chg-shrad/Shrad_misc_work/Misc_projects/2019/SERVIR_AST_WA/Daily_precipitation/Data/IMERG_gt_05_for_RFE_leq_00_mon_09.nc\n"
     ]
    },
    {
     "name": "stderr",
     "output_type": "stream",
     "text": [
      "/home/shrad/miniconda3/envs/py37-defaults/lib/python3.7/site-packages/dask/core.py:119: RuntimeWarning: invalid value encountered in greater\n",
      "  return func(*args2)\n"
     ]
    },
    {
     "name": "stdout",
     "output_type": "stream",
     "text": [
      "CPU times: user 0 ns, sys: 0 ns, total: 0 ns\n",
      "Wall time: 37 s\n",
      "Reading /home/chg-shrad/DATA/Precipitation_Global/RFE/Daily/Daily_RFE_*10.nc\n",
      "Reading /home/chg-shrad/DATA/Precipitation_Global/IMERG/Africa/Daily_combined/ARC_grid/3B-DAY.MS.MRG.3IMERG.*10.nc4\n",
      "Writing /home/chg-shrad/Shrad_misc_work/Misc_projects/2019/SERVIR_AST_WA/Daily_precipitation/Data/IMERG_gt_05_for_RFE_leq_00_mon_10.nc\n"
     ]
    },
    {
     "name": "stderr",
     "output_type": "stream",
     "text": [
      "/home/shrad/miniconda3/envs/py37-defaults/lib/python3.7/site-packages/dask/core.py:119: RuntimeWarning: invalid value encountered in greater\n",
      "  return func(*args2)\n"
     ]
    },
    {
     "name": "stdout",
     "output_type": "stream",
     "text": [
      "CPU times: user 0 ns, sys: 0 ns, total: 0 ns\n",
      "Wall time: 39.4 s\n",
      "Reading /home/chg-shrad/DATA/Precipitation_Global/RFE/Daily/Daily_RFE_*11.nc\n",
      "Reading /home/chg-shrad/DATA/Precipitation_Global/IMERG/Africa/Daily_combined/ARC_grid/3B-DAY.MS.MRG.3IMERG.*11.nc4\n",
      "Writing /home/chg-shrad/Shrad_misc_work/Misc_projects/2019/SERVIR_AST_WA/Daily_precipitation/Data/IMERG_gt_05_for_RFE_leq_00_mon_11.nc\n"
     ]
    },
    {
     "name": "stderr",
     "output_type": "stream",
     "text": [
      "/home/shrad/miniconda3/envs/py37-defaults/lib/python3.7/site-packages/dask/core.py:119: RuntimeWarning: invalid value encountered in greater\n",
      "  return func(*args2)\n",
      "/home/shrad/miniconda3/envs/py37-defaults/lib/python3.7/site-packages/dask/core.py:119: RuntimeWarning: invalid value encountered in less_equal\n",
      "  return func(*args2)\n"
     ]
    },
    {
     "name": "stdout",
     "output_type": "stream",
     "text": [
      "CPU times: user 0 ns, sys: 0 ns, total: 0 ns\n",
      "Wall time: 38.2 s\n",
      "Reading /home/chg-shrad/DATA/Precipitation_Global/RFE/Daily/Daily_RFE_*12.nc\n",
      "Reading /home/chg-shrad/DATA/Precipitation_Global/IMERG/Africa/Daily_combined/ARC_grid/3B-DAY.MS.MRG.3IMERG.*12.nc4\n",
      "Writing /home/chg-shrad/Shrad_misc_work/Misc_projects/2019/SERVIR_AST_WA/Daily_precipitation/Data/IMERG_gt_05_for_RFE_leq_00_mon_12.nc\n"
     ]
    },
    {
     "name": "stderr",
     "output_type": "stream",
     "text": [
      "/home/shrad/miniconda3/envs/py37-defaults/lib/python3.7/site-packages/dask/core.py:119: RuntimeWarning: invalid value encountered in greater\n",
      "  return func(*args2)\n"
     ]
    },
    {
     "name": "stdout",
     "output_type": "stream",
     "text": [
      "CPU times: user 0 ns, sys: 0 ns, total: 0 ns\n",
      "Wall time: 34.9 s\n",
      "Reading /home/chg-shrad/DATA/Precipitation_Global/RFE/Daily/Daily_RFE_*01.nc\n",
      "Reading /home/chg-shrad/DATA/Precipitation_Global/IMERG/Africa/Daily_combined/ARC_grid/3B-DAY.MS.MRG.3IMERG.*01.nc4\n",
      "Writing /home/chg-shrad/Shrad_misc_work/Misc_projects/2019/SERVIR_AST_WA/Daily_precipitation/Data/IMERG_gt_05_for_RFE_leq_05_mon_01.nc\n"
     ]
    },
    {
     "name": "stderr",
     "output_type": "stream",
     "text": [
      "/home/shrad/miniconda3/envs/py37-defaults/lib/python3.7/site-packages/dask/core.py:119: RuntimeWarning: invalid value encountered in greater\n",
      "  return func(*args2)\n"
     ]
    },
    {
     "name": "stdout",
     "output_type": "stream",
     "text": [
      "CPU times: user 0 ns, sys: 0 ns, total: 0 ns\n",
      "Wall time: 39.7 s\n",
      "Reading /home/chg-shrad/DATA/Precipitation_Global/RFE/Daily/Daily_RFE_*02.nc\n",
      "Reading /home/chg-shrad/DATA/Precipitation_Global/IMERG/Africa/Daily_combined/ARC_grid/3B-DAY.MS.MRG.3IMERG.*02.nc4\n",
      "Writing /home/chg-shrad/Shrad_misc_work/Misc_projects/2019/SERVIR_AST_WA/Daily_precipitation/Data/IMERG_gt_05_for_RFE_leq_05_mon_02.nc\n"
     ]
    },
    {
     "name": "stderr",
     "output_type": "stream",
     "text": [
      "/home/shrad/miniconda3/envs/py37-defaults/lib/python3.7/site-packages/dask/core.py:119: RuntimeWarning: invalid value encountered in greater\n",
      "  return func(*args2)\n"
     ]
    },
    {
     "name": "stdout",
     "output_type": "stream",
     "text": [
      "CPU times: user 0 ns, sys: 0 ns, total: 0 ns\n",
      "Wall time: 37.5 s\n",
      "Reading /home/chg-shrad/DATA/Precipitation_Global/RFE/Daily/Daily_RFE_*03.nc\n",
      "Reading /home/chg-shrad/DATA/Precipitation_Global/IMERG/Africa/Daily_combined/ARC_grid/3B-DAY.MS.MRG.3IMERG.*03.nc4\n",
      "Writing /home/chg-shrad/Shrad_misc_work/Misc_projects/2019/SERVIR_AST_WA/Daily_precipitation/Data/IMERG_gt_05_for_RFE_leq_05_mon_03.nc\n"
     ]
    },
    {
     "name": "stderr",
     "output_type": "stream",
     "text": [
      "/home/shrad/miniconda3/envs/py37-defaults/lib/python3.7/site-packages/dask/core.py:119: RuntimeWarning: invalid value encountered in greater\n",
      "  return func(*args2)\n"
     ]
    },
    {
     "name": "stdout",
     "output_type": "stream",
     "text": [
      "CPU times: user 0 ns, sys: 0 ns, total: 0 ns\n",
      "Wall time: 42.4 s\n",
      "Reading /home/chg-shrad/DATA/Precipitation_Global/RFE/Daily/Daily_RFE_*04.nc\n",
      "Reading /home/chg-shrad/DATA/Precipitation_Global/IMERG/Africa/Daily_combined/ARC_grid/3B-DAY.MS.MRG.3IMERG.*04.nc4\n",
      "Writing /home/chg-shrad/Shrad_misc_work/Misc_projects/2019/SERVIR_AST_WA/Daily_precipitation/Data/IMERG_gt_05_for_RFE_leq_05_mon_04.nc\n"
     ]
    },
    {
     "name": "stderr",
     "output_type": "stream",
     "text": [
      "/home/shrad/miniconda3/envs/py37-defaults/lib/python3.7/site-packages/dask/core.py:119: RuntimeWarning: invalid value encountered in greater\n",
      "  return func(*args2)\n"
     ]
    },
    {
     "name": "stdout",
     "output_type": "stream",
     "text": [
      "CPU times: user 0 ns, sys: 0 ns, total: 0 ns\n",
      "Wall time: 44.7 s\n",
      "Reading /home/chg-shrad/DATA/Precipitation_Global/RFE/Daily/Daily_RFE_*05.nc\n",
      "Reading /home/chg-shrad/DATA/Precipitation_Global/IMERG/Africa/Daily_combined/ARC_grid/3B-DAY.MS.MRG.3IMERG.*05.nc4\n",
      "Writing /home/chg-shrad/Shrad_misc_work/Misc_projects/2019/SERVIR_AST_WA/Daily_precipitation/Data/IMERG_gt_05_for_RFE_leq_05_mon_05.nc\n"
     ]
    },
    {
     "name": "stderr",
     "output_type": "stream",
     "text": [
      "/home/shrad/miniconda3/envs/py37-defaults/lib/python3.7/site-packages/dask/core.py:119: RuntimeWarning: invalid value encountered in greater\n",
      "  return func(*args2)\n"
     ]
    },
    {
     "name": "stdout",
     "output_type": "stream",
     "text": [
      "CPU times: user 0 ns, sys: 0 ns, total: 0 ns\n",
      "Wall time: 38 s\n",
      "Reading /home/chg-shrad/DATA/Precipitation_Global/RFE/Daily/Daily_RFE_*06.nc\n",
      "Reading /home/chg-shrad/DATA/Precipitation_Global/IMERG/Africa/Daily_combined/ARC_grid/3B-DAY.MS.MRG.3IMERG.*06.nc4\n",
      "Writing /home/chg-shrad/Shrad_misc_work/Misc_projects/2019/SERVIR_AST_WA/Daily_precipitation/Data/IMERG_gt_05_for_RFE_leq_05_mon_06.nc\n"
     ]
    },
    {
     "name": "stderr",
     "output_type": "stream",
     "text": [
      "/home/shrad/miniconda3/envs/py37-defaults/lib/python3.7/site-packages/dask/core.py:119: RuntimeWarning: invalid value encountered in greater\n",
      "  return func(*args2)\n"
     ]
    },
    {
     "name": "stdout",
     "output_type": "stream",
     "text": [
      "CPU times: user 0 ns, sys: 0 ns, total: 0 ns\n",
      "Wall time: 32 s\n",
      "Reading /home/chg-shrad/DATA/Precipitation_Global/RFE/Daily/Daily_RFE_*07.nc\n",
      "Reading /home/chg-shrad/DATA/Precipitation_Global/IMERG/Africa/Daily_combined/ARC_grid/3B-DAY.MS.MRG.3IMERG.*07.nc4\n",
      "Writing /home/chg-shrad/Shrad_misc_work/Misc_projects/2019/SERVIR_AST_WA/Daily_precipitation/Data/IMERG_gt_05_for_RFE_leq_05_mon_07.nc\n"
     ]
    },
    {
     "name": "stderr",
     "output_type": "stream",
     "text": [
      "/home/shrad/miniconda3/envs/py37-defaults/lib/python3.7/site-packages/dask/core.py:119: RuntimeWarning: invalid value encountered in greater\n",
      "  return func(*args2)\n",
      "/home/shrad/miniconda3/envs/py37-defaults/lib/python3.7/site-packages/dask/core.py:119: RuntimeWarning: invalid value encountered in less_equal\n",
      "  return func(*args2)\n"
     ]
    },
    {
     "name": "stdout",
     "output_type": "stream",
     "text": [
      "CPU times: user 0 ns, sys: 0 ns, total: 0 ns\n",
      "Wall time: 35.2 s\n",
      "Reading /home/chg-shrad/DATA/Precipitation_Global/RFE/Daily/Daily_RFE_*08.nc\n",
      "Reading /home/chg-shrad/DATA/Precipitation_Global/IMERG/Africa/Daily_combined/ARC_grid/3B-DAY.MS.MRG.3IMERG.*08.nc4\n",
      "Writing /home/chg-shrad/Shrad_misc_work/Misc_projects/2019/SERVIR_AST_WA/Daily_precipitation/Data/IMERG_gt_05_for_RFE_leq_05_mon_08.nc\n"
     ]
    },
    {
     "name": "stderr",
     "output_type": "stream",
     "text": [
      "/home/shrad/miniconda3/envs/py37-defaults/lib/python3.7/site-packages/dask/core.py:119: RuntimeWarning: invalid value encountered in greater\n",
      "  return func(*args2)\n"
     ]
    },
    {
     "name": "stdout",
     "output_type": "stream",
     "text": [
      "CPU times: user 0 ns, sys: 0 ns, total: 0 ns\n",
      "Wall time: 35.4 s\n",
      "Reading /home/chg-shrad/DATA/Precipitation_Global/RFE/Daily/Daily_RFE_*09.nc\n",
      "Reading /home/chg-shrad/DATA/Precipitation_Global/IMERG/Africa/Daily_combined/ARC_grid/3B-DAY.MS.MRG.3IMERG.*09.nc4\n",
      "Writing /home/chg-shrad/Shrad_misc_work/Misc_projects/2019/SERVIR_AST_WA/Daily_precipitation/Data/IMERG_gt_05_for_RFE_leq_05_mon_09.nc\n"
     ]
    },
    {
     "name": "stderr",
     "output_type": "stream",
     "text": [
      "/home/shrad/miniconda3/envs/py37-defaults/lib/python3.7/site-packages/dask/core.py:119: RuntimeWarning: invalid value encountered in greater\n",
      "  return func(*args2)\n"
     ]
    },
    {
     "name": "stdout",
     "output_type": "stream",
     "text": [
      "CPU times: user 0 ns, sys: 0 ns, total: 0 ns\n",
      "Wall time: 32 s\n",
      "Reading /home/chg-shrad/DATA/Precipitation_Global/RFE/Daily/Daily_RFE_*10.nc\n",
      "Reading /home/chg-shrad/DATA/Precipitation_Global/IMERG/Africa/Daily_combined/ARC_grid/3B-DAY.MS.MRG.3IMERG.*10.nc4\n",
      "Writing /home/chg-shrad/Shrad_misc_work/Misc_projects/2019/SERVIR_AST_WA/Daily_precipitation/Data/IMERG_gt_05_for_RFE_leq_05_mon_10.nc\n"
     ]
    },
    {
     "name": "stderr",
     "output_type": "stream",
     "text": [
      "/home/shrad/miniconda3/envs/py37-defaults/lib/python3.7/site-packages/dask/core.py:119: RuntimeWarning: invalid value encountered in greater\n",
      "  return func(*args2)\n"
     ]
    },
    {
     "name": "stdout",
     "output_type": "stream",
     "text": [
      "CPU times: user 0 ns, sys: 0 ns, total: 0 ns\n",
      "Wall time: 32.3 s\n",
      "Reading /home/chg-shrad/DATA/Precipitation_Global/RFE/Daily/Daily_RFE_*11.nc\n",
      "Reading /home/chg-shrad/DATA/Precipitation_Global/IMERG/Africa/Daily_combined/ARC_grid/3B-DAY.MS.MRG.3IMERG.*11.nc4\n",
      "Writing /home/chg-shrad/Shrad_misc_work/Misc_projects/2019/SERVIR_AST_WA/Daily_precipitation/Data/IMERG_gt_05_for_RFE_leq_05_mon_11.nc\n"
     ]
    },
    {
     "name": "stderr",
     "output_type": "stream",
     "text": [
      "/home/shrad/miniconda3/envs/py37-defaults/lib/python3.7/site-packages/dask/core.py:119: RuntimeWarning: invalid value encountered in greater\n",
      "  return func(*args2)\n",
      "/home/shrad/miniconda3/envs/py37-defaults/lib/python3.7/site-packages/dask/core.py:119: RuntimeWarning: invalid value encountered in less_equal\n",
      "  return func(*args2)\n"
     ]
    },
    {
     "name": "stdout",
     "output_type": "stream",
     "text": [
      "CPU times: user 0 ns, sys: 0 ns, total: 0 ns\n",
      "Wall time: 32 s\n",
      "Reading /home/chg-shrad/DATA/Precipitation_Global/RFE/Daily/Daily_RFE_*12.nc\n",
      "Reading /home/chg-shrad/DATA/Precipitation_Global/IMERG/Africa/Daily_combined/ARC_grid/3B-DAY.MS.MRG.3IMERG.*12.nc4\n",
      "Writing /home/chg-shrad/Shrad_misc_work/Misc_projects/2019/SERVIR_AST_WA/Daily_precipitation/Data/IMERG_gt_05_for_RFE_leq_05_mon_12.nc\n"
     ]
    },
    {
     "name": "stderr",
     "output_type": "stream",
     "text": [
      "/home/shrad/miniconda3/envs/py37-defaults/lib/python3.7/site-packages/dask/core.py:119: RuntimeWarning: invalid value encountered in greater\n",
      "  return func(*args2)\n"
     ]
    },
    {
     "name": "stdout",
     "output_type": "stream",
     "text": [
      "CPU times: user 0 ns, sys: 0 ns, total: 0 ns\n",
      "Wall time: 27.2 s\n"
     ]
    }
   ],
   "source": [
    "# The following calculates the average number of days of the differences in precipitaton intensity\n",
    "OUTFILE_template = '/home/chg-shrad/Shrad_misc_work/Misc_projects/2019/SERVIR_AST_WA/Daily_precipitation/Data/{}_gt_{:02d}_for_RFE_leq_{:02d}_mon_{:02d}.nc'\n",
    "for THRESH_1, THRESH_2 in zip([0, 5], [5, 5]):\n",
    "    for MON in range(1, 13):\n",
    "        print (\"Reading {}\".format(RFE_template.format(MON)))\n",
    "        RFE_DATA = xr.open_mfdataset(RFE_template.format(MON), combine = 'nested', concat_dim='T')\n",
    "        RFE_DATA = RFE_DATA.sel(T=(RFE_DATA.coords['T.year']>=2001) & (RFE_DATA.coords['T.year']<=2019))\n",
    "        #print (\"Reading {}\".format(ARC_template.format(MON)))\n",
    "        #ARC_DATA = xr.open_mfdataset(ARC_template.format(MON), combine = 'nested', concat_dim='T')\n",
    "        #ARC_DATA = ARC_DATA.sel(T=(ARC_DATA.coords['T.year']>=2001) & (ARC_DATA.coords['T.year']<=2019))\n",
    "        \n",
    "        #print (\"Reading {}\".format(CHIRPS_template.format(MON)))\n",
    "        #CHIRPS_DATA = xr.open_mfdataset(CHIRPS_template.format(MON), combine = 'nested', concat_dim='time')\n",
    "        #CHIRPS_DATA = CHIRPS_DATA.rename({'time': 'T'})\n",
    "        #CHIRPS_DATA = CHIRPS_DATA.chunk({'Y':50, 'X':50})\n",
    "        #CHIRPS_DATA = CHIRPS_DATA.sel(T=(CHIRPS_DATA.coords['T.year']>=2001) & (CHIRPS_DATA.coords['T.year']<=2019))\n",
    "        #CHIRPS_DATA.coords['T'] = RFE_DATA.coords['T']\n",
    "        \n",
    "        RFE_DATA = RFE_DATA.chunk({'Y':50, 'X':50})\n",
    "        #ARC_DATA = ARC_DATA.chunk({'Y':50, 'X':50})\n",
    "        \n",
    "        #MASKED_ARC = ARC_DATA.where(RFE_DATA['est_prcp']<=THRESH_1)\n",
    "        #OUTFILE = OUTFILE_template.format('ARC', THRESH_2, THRESH_1, MON)\n",
    "        #print (\"Writing {}\".format(OUTFILE))\n",
    "        #%time (((MASKED_ARC>THRESH_2).resample(T='A').sum()).mean(dim='T')).to_netcdf(OUTFILE)\n",
    "        \n",
    "        #MASKED_CHIRPS = CHIRPS_DATA.where(RFE_DATA['est_prcp']<=THRESH_1)\n",
    "        #OUTFILE = OUTFILE_template.format('CHIRPS', THRESH_2, THRESH_1, MON)\n",
    "        #print (\"Writing {}\".format(OUTFILE))\n",
    "        #%time (((MASKED_CHIRPS>THRESH_2).resample(T='A').sum()).mean(dim='T')).to_netcdf(OUTFILE)\n",
    "        \n",
    "        print (\"Reading {}\".format(IMERG_template.format(MON)))\n",
    "        IMERG_DATA = xr.open_mfdataset(IMERG_template.format(MON), combine = 'nested', concat_dim='time')\n",
    "        IMERG_DATA = IMERG_DATA.rename({'time': 'T'})\n",
    "        IMERG_DATA = IMERG_DATA.chunk({'Y':50, 'X':50})\n",
    "        IMERG_DATA.coords['T'] = RFE_DATA.coords['T']\n",
    "        \n",
    "        MASKED_IMERG = IMERG_DATA.where(RFE_DATA['est_prcp']<=THRESH_1)\n",
    "        OUTFILE = OUTFILE_template.format('IMERG', THRESH_2, THRESH_1, MON)\n",
    "        print (\"Writing {}\".format(OUTFILE))\n",
    "        %time (((MASKED_IMERG>THRESH_2).resample(T='A').sum()).mean(dim='T')).to_netcdf(OUTFILE)\n",
    "        "
   ]
  },
  {
   "cell_type": "code",
   "execution_count": 46,
   "metadata": {},
   "outputs": [
    {
     "name": "stdout",
     "output_type": "stream",
     "text": [
      "Reading /home/chg-shrad/DATA/Precipitation_Global/IMERG/Africa/Daily_combined/Original/3B-DAY.MS.MRG.3IMERG.*03.nc4\n",
      "Writing /home/chg-shrad/Shrad_misc_work/Misc_projects/2019/SERVIR_AST_WA/Daily_precipitation/Data/Original_IMERG_numdays_gt_0_mon_03.nc\n",
      "CPU times: user 0 ns, sys: 0 ns, total: 0 ns\n",
      "Wall time: 22.1 s\n"
     ]
    }
   ],
   "source": [
    "OUTFILE_template = '/home/chg-shrad/Shrad_misc_work/Misc_projects/2019/SERVIR_AST_WA/Daily_precipitation/Data/{}_numdays_gt_{}_mon_{:02d}.nc'\n",
    "for THRESH_1 in [0]:\n",
    "    for MON in [3]:\n",
    "        \n",
    "        #print (\"Reading {}\".format(RFE_template.format(MON)))\n",
    "        #print (\"Reading {}\".format(ARC_template.format(MON)))\n",
    "        \n",
    "        #RFE_DATA = xr.open_mfdataset(RFE_template.format(MON), combine = 'nested', concat_dim='T')\n",
    "        #ARC_DATA = xr.open_mfdataset(ARC_template.format(MON), combine = 'nested', concat_dim='T')\n",
    "        #ARC_DATA = ARC_DATA.sel(T=(ARC_DATA.coords['T.year']>=2001) & (ARC_DATA.coords['T.year']<=2019))\n",
    "        #\"Reading {}\".format(CHIRPS_template.format(MON))\n",
    "        #CHIRPS_DATA = xr.open_mfdataset(CHIRPS_template.format(MON), combine = 'nested', concat_dim='time')\n",
    "        #CHIRPS_DATA = CHIRPS_DATA.sel(time=(CHIRPS_DATA.coords['time.year']>=2001) & (CHIRPS_DATA.coords['time.year']<=2019))\n",
    "        \n",
    "        #RFE_DATA = RFE_DATA.chunk({'Y':50, 'X':50})\n",
    "        #ARC_DATA = ARC_DATA.chunk({'Y':50, 'X':50})\n",
    "        #CHIRPS_DATA = CHIRPS_DATA.chunk({'Y':50, 'X':50})\n",
    "        \n",
    "        # ARC \n",
    "        #OUTFILE = OUTFILE_template.format('ARC', THRESH_1, MON)\n",
    "        #print (\"Writing {}\".format(OUTFILE))\n",
    "        #%time (ARC_DATA>THRESH_1).resample(T='A').sum().mean(dim='T').to_netcdf(OUTFILE)\n",
    "        \n",
    "        #RFE\n",
    "        \n",
    "        #OUTFILE = OUTFILE_template.format('RFE', THRESH_1, MON)\n",
    "        #print (\"Writing {}\".format(OUTFILE))\n",
    "        #%time (RFE_DATA>THRESH_1).resample(T='A').sum().mean(dim='T').to_netcdf(OUTFILE)\n",
    "        \n",
    "        # CHIRPS\n",
    "        #OUTFILE = OUTFILE_template.format('CHIRPS', THRESH_1, MON)\n",
    "        #print (\"Writing {}\".format(OUTFILE))\n",
    "        #%time (CHIRPS_DATA>THRESH_1).resample(time='A').sum().mean(dim='time').to_netcdf(OUTFILE)\n",
    "        \n",
    "        #IMERG\n",
    "        print (\"Reading {}\".format(IMERG_template.format(MON)))\n",
    "        IMERG_DATA = xr.open_mfdataset(IMERG_template.format(MON), combine = 'nested', concat_dim='time')\n",
    "        #IMERG_DATA = IMERG_DATA.chunk({'Y':100, 'X':100})\n",
    "        OUTFILE = OUTFILE_template.format('IMERG', THRESH_1, MON)\n",
    "        print (\"Writing {}\".format(OUTFILE))\n",
    "        %time (IMERG_DATA>THRESH_1).resample(time='A').sum().mean(dim='time').to_netcdf(OUTFILE)"
   ]
  },
  {
   "cell_type": "code",
   "execution_count": 36,
   "metadata": {},
   "outputs": [
    {
     "name": "stdout",
     "output_type": "stream",
     "text": [
      "Reading /home/chg-shrad/DATA/Precipitation_Global/IMERG/Africa/Daily_combined/ARC_grid/3B-DAY.MS.MRG.3IMERG.*01.nc4\n",
      "Writing /home/chg-shrad/Shrad_misc_work/Misc_projects/2019/SERVIR_AST_WA/Daily_precipitation/Data/IMERG_mean_daily_01.nc\n"
     ]
    },
    {
     "name": "stderr",
     "output_type": "stream",
     "text": [
      "/home/shrad/miniconda3/envs/py37-defaults/lib/python3.7/site-packages/dask/array/numpy_compat.py:40: RuntimeWarning: invalid value encountered in true_divide\n",
      "  x = np.divide(x1, x2, out)\n"
     ]
    },
    {
     "name": "stdout",
     "output_type": "stream",
     "text": [
      "Reading /home/chg-shrad/DATA/Precipitation_Global/IMERG/Africa/Daily_combined/ARC_grid/3B-DAY.MS.MRG.3IMERG.*02.nc4\n",
      "Writing /home/chg-shrad/Shrad_misc_work/Misc_projects/2019/SERVIR_AST_WA/Daily_precipitation/Data/IMERG_mean_daily_02.nc\n"
     ]
    },
    {
     "name": "stderr",
     "output_type": "stream",
     "text": [
      "/home/shrad/miniconda3/envs/py37-defaults/lib/python3.7/site-packages/dask/array/numpy_compat.py:40: RuntimeWarning: invalid value encountered in true_divide\n",
      "  x = np.divide(x1, x2, out)\n"
     ]
    },
    {
     "name": "stdout",
     "output_type": "stream",
     "text": [
      "Reading /home/chg-shrad/DATA/Precipitation_Global/IMERG/Africa/Daily_combined/ARC_grid/3B-DAY.MS.MRG.3IMERG.*03.nc4\n",
      "Writing /home/chg-shrad/Shrad_misc_work/Misc_projects/2019/SERVIR_AST_WA/Daily_precipitation/Data/IMERG_mean_daily_03.nc\n"
     ]
    },
    {
     "name": "stderr",
     "output_type": "stream",
     "text": [
      "/home/shrad/miniconda3/envs/py37-defaults/lib/python3.7/site-packages/dask/array/numpy_compat.py:40: RuntimeWarning: invalid value encountered in true_divide\n",
      "  x = np.divide(x1, x2, out)\n"
     ]
    },
    {
     "name": "stdout",
     "output_type": "stream",
     "text": [
      "Reading /home/chg-shrad/DATA/Precipitation_Global/IMERG/Africa/Daily_combined/ARC_grid/3B-DAY.MS.MRG.3IMERG.*04.nc4\n",
      "Writing /home/chg-shrad/Shrad_misc_work/Misc_projects/2019/SERVIR_AST_WA/Daily_precipitation/Data/IMERG_mean_daily_04.nc\n"
     ]
    },
    {
     "name": "stderr",
     "output_type": "stream",
     "text": [
      "/home/shrad/miniconda3/envs/py37-defaults/lib/python3.7/site-packages/dask/array/numpy_compat.py:40: RuntimeWarning: invalid value encountered in true_divide\n",
      "  x = np.divide(x1, x2, out)\n"
     ]
    },
    {
     "name": "stdout",
     "output_type": "stream",
     "text": [
      "Reading /home/chg-shrad/DATA/Precipitation_Global/IMERG/Africa/Daily_combined/ARC_grid/3B-DAY.MS.MRG.3IMERG.*05.nc4\n",
      "Writing /home/chg-shrad/Shrad_misc_work/Misc_projects/2019/SERVIR_AST_WA/Daily_precipitation/Data/IMERG_mean_daily_05.nc\n"
     ]
    },
    {
     "name": "stderr",
     "output_type": "stream",
     "text": [
      "/home/shrad/miniconda3/envs/py37-defaults/lib/python3.7/site-packages/dask/array/numpy_compat.py:40: RuntimeWarning: invalid value encountered in true_divide\n",
      "  x = np.divide(x1, x2, out)\n"
     ]
    },
    {
     "name": "stdout",
     "output_type": "stream",
     "text": [
      "Reading /home/chg-shrad/DATA/Precipitation_Global/IMERG/Africa/Daily_combined/ARC_grid/3B-DAY.MS.MRG.3IMERG.*06.nc4\n",
      "Writing /home/chg-shrad/Shrad_misc_work/Misc_projects/2019/SERVIR_AST_WA/Daily_precipitation/Data/IMERG_mean_daily_06.nc\n"
     ]
    },
    {
     "name": "stderr",
     "output_type": "stream",
     "text": [
      "/home/shrad/miniconda3/envs/py37-defaults/lib/python3.7/site-packages/dask/array/numpy_compat.py:40: RuntimeWarning: invalid value encountered in true_divide\n",
      "  x = np.divide(x1, x2, out)\n"
     ]
    },
    {
     "name": "stdout",
     "output_type": "stream",
     "text": [
      "Reading /home/chg-shrad/DATA/Precipitation_Global/IMERG/Africa/Daily_combined/ARC_grid/3B-DAY.MS.MRG.3IMERG.*07.nc4\n",
      "Writing /home/chg-shrad/Shrad_misc_work/Misc_projects/2019/SERVIR_AST_WA/Daily_precipitation/Data/IMERG_mean_daily_07.nc\n"
     ]
    },
    {
     "name": "stderr",
     "output_type": "stream",
     "text": [
      "/home/shrad/miniconda3/envs/py37-defaults/lib/python3.7/site-packages/dask/array/numpy_compat.py:40: RuntimeWarning: invalid value encountered in true_divide\n",
      "  x = np.divide(x1, x2, out)\n"
     ]
    },
    {
     "name": "stdout",
     "output_type": "stream",
     "text": [
      "Reading /home/chg-shrad/DATA/Precipitation_Global/IMERG/Africa/Daily_combined/ARC_grid/3B-DAY.MS.MRG.3IMERG.*08.nc4\n",
      "Writing /home/chg-shrad/Shrad_misc_work/Misc_projects/2019/SERVIR_AST_WA/Daily_precipitation/Data/IMERG_mean_daily_08.nc\n"
     ]
    },
    {
     "name": "stderr",
     "output_type": "stream",
     "text": [
      "/home/shrad/miniconda3/envs/py37-defaults/lib/python3.7/site-packages/dask/array/numpy_compat.py:40: RuntimeWarning: invalid value encountered in true_divide\n",
      "  x = np.divide(x1, x2, out)\n"
     ]
    },
    {
     "name": "stdout",
     "output_type": "stream",
     "text": [
      "Reading /home/chg-shrad/DATA/Precipitation_Global/IMERG/Africa/Daily_combined/ARC_grid/3B-DAY.MS.MRG.3IMERG.*09.nc4\n",
      "Writing /home/chg-shrad/Shrad_misc_work/Misc_projects/2019/SERVIR_AST_WA/Daily_precipitation/Data/IMERG_mean_daily_09.nc\n"
     ]
    },
    {
     "name": "stderr",
     "output_type": "stream",
     "text": [
      "/home/shrad/miniconda3/envs/py37-defaults/lib/python3.7/site-packages/dask/array/numpy_compat.py:40: RuntimeWarning: invalid value encountered in true_divide\n",
      "  x = np.divide(x1, x2, out)\n"
     ]
    },
    {
     "name": "stdout",
     "output_type": "stream",
     "text": [
      "Reading /home/chg-shrad/DATA/Precipitation_Global/IMERG/Africa/Daily_combined/ARC_grid/3B-DAY.MS.MRG.3IMERG.*10.nc4\n",
      "Writing /home/chg-shrad/Shrad_misc_work/Misc_projects/2019/SERVIR_AST_WA/Daily_precipitation/Data/IMERG_mean_daily_10.nc\n"
     ]
    },
    {
     "name": "stderr",
     "output_type": "stream",
     "text": [
      "/home/shrad/miniconda3/envs/py37-defaults/lib/python3.7/site-packages/dask/array/numpy_compat.py:40: RuntimeWarning: invalid value encountered in true_divide\n",
      "  x = np.divide(x1, x2, out)\n"
     ]
    },
    {
     "name": "stdout",
     "output_type": "stream",
     "text": [
      "Reading /home/chg-shrad/DATA/Precipitation_Global/IMERG/Africa/Daily_combined/ARC_grid/3B-DAY.MS.MRG.3IMERG.*11.nc4\n",
      "Writing /home/chg-shrad/Shrad_misc_work/Misc_projects/2019/SERVIR_AST_WA/Daily_precipitation/Data/IMERG_mean_daily_11.nc\n"
     ]
    },
    {
     "name": "stderr",
     "output_type": "stream",
     "text": [
      "/home/shrad/miniconda3/envs/py37-defaults/lib/python3.7/site-packages/dask/array/numpy_compat.py:40: RuntimeWarning: invalid value encountered in true_divide\n",
      "  x = np.divide(x1, x2, out)\n"
     ]
    },
    {
     "name": "stdout",
     "output_type": "stream",
     "text": [
      "Reading /home/chg-shrad/DATA/Precipitation_Global/IMERG/Africa/Daily_combined/ARC_grid/3B-DAY.MS.MRG.3IMERG.*12.nc4\n",
      "Writing /home/chg-shrad/Shrad_misc_work/Misc_projects/2019/SERVIR_AST_WA/Daily_precipitation/Data/IMERG_mean_daily_12.nc\n"
     ]
    },
    {
     "name": "stderr",
     "output_type": "stream",
     "text": [
      "/home/shrad/miniconda3/envs/py37-defaults/lib/python3.7/site-packages/dask/array/numpy_compat.py:40: RuntimeWarning: invalid value encountered in true_divide\n",
      "  x = np.divide(x1, x2, out)\n"
     ]
    }
   ],
   "source": [
    "## The following calculates average daily intensity of rainfall in each of the dataset for each month\n",
    "\n",
    "OUTFILE_template = '/home/chg-shrad/Shrad_misc_work/Misc_projects/2019/SERVIR_AST_WA/Daily_precipitation/Data/{}_mean_daily_{:02d}.nc'\n",
    "for MON in range(1, 13):\n",
    "    #print (\"Reading {}\".format(RFE_template.format(MON)))\n",
    "    #print (\"Reading {}\".format(ARC_template.format(MON)))\n",
    "    \n",
    "    #RFE_DATA = xr.open_mfdataset(RFE_template.format(MON), combine = 'nested', concat_dim='T')\n",
    "    #ARC_DATA = xr.open_mfdataset(ARC_template.format(MON), combine = 'nested', concat_dim='T')\n",
    "    #ARC_DATA = ARC_DATA.sel(T=(ARC_DATA.coords['T.year']>=2001) & (ARC_DATA.coords['T.year']<=2019))\n",
    "    \n",
    "    #print (\"Reading {}\".format(CHIRPS_template.format(MON)))\n",
    "    #CHIRPS_DATA = xr.open_mfdataset(CHIRPS_template.format(MON), combine = 'nested', concat_dim='time')\n",
    "    #CHIRPS_DATA = CHIRPS_DATA.sel(time=(CHIRPS_DATA.coords['time.year']>=2001) & (CHIRPS_DATA.coords['time.year']<=2019))\n",
    "        \n",
    "    #RFE_DATA = RFE_DATA.chunk({'Y':50, 'X':50})\n",
    "    #ARC_DATA = ARC_DATA.chunk({'Y':50, 'X':50})\n",
    "    #CHIRPS_DATA = CHIRPS_DATA.chunk({'Y':50, 'X':50})\n",
    "    \n",
    "    #OUTFILE = OUTFILE_template.format('RFE', MON)\n",
    "    #print (\"Writing {}\".format(OUTFILE))\n",
    "    #RFE_DATA.mean(dim='T').to_netcdf(OUTFILE)\n",
    "    \n",
    "    #OUTFILE = OUTFILE_template.format('ARC', MON)\n",
    "    #print (\"Writing {}\".format(OUTFILE))\n",
    "    #ARC_DATA.mean(dim='T').to_netcdf(OUTFILE)\n",
    "    \n",
    "    #OUTFILE = OUTFILE_template.format('CHIRPS', MON)\n",
    "    #print (\"Writing {}\".format(OUTFILE))\n",
    "    #CHIRPS_DATA.mean(dim='time').to_netcdf(OUTFILE)\n",
    "    \n",
    "    print (\"Reading {}\".format(IMERG_template.format(MON)))\n",
    "    IMERG_DATA = xr.open_mfdataset(IMERG_template.format(MON), combine = 'nested', concat_dim='time')\n",
    "    IMERG_DATA = IMERG_DATA.chunk({'Y':50, 'X':50})\n",
    "    OUTFILE = OUTFILE_template.format('IMERG', MON)\n",
    "    print (\"Writing {}\".format(OUTFILE))\n",
    "    IMERG_DATA.mean(dim='time').to_netcdf(OUTFILE)"
   ]
  },
  {
   "cell_type": "code",
   "execution_count": 34,
   "metadata": {},
   "outputs": [
    {
     "name": "stdout",
     "output_type": "stream",
     "text": [
      "Reading /home/chg-shrad/DATA/Precipitation_Global/IMERG/Africa/Daily_combined/ARC_grid/3B-DAY.MS.MRG.3IMERG.*01.nc4\n",
      "Writing /home/chg-shrad/Shrad_misc_work/Misc_projects/2019/SERVIR_AST_WA/Daily_precipitation/Data/IMERG_mean_max_daily_01.nc\n"
     ]
    },
    {
     "name": "stderr",
     "output_type": "stream",
     "text": [
      "/home/shrad/miniconda3/envs/py37-defaults/lib/python3.7/site-packages/dask/utils.py:29: RuntimeWarning: All-NaN slice encountered\n",
      "  return func(*args, **kwargs)\n",
      "/home/shrad/miniconda3/envs/py37-defaults/lib/python3.7/site-packages/toolz/functoolz.py:488: RuntimeWarning: All-NaN slice encountered\n",
      "  ret = f(ret)\n",
      "/home/shrad/miniconda3/envs/py37-defaults/lib/python3.7/site-packages/dask/array/numpy_compat.py:40: RuntimeWarning: invalid value encountered in true_divide\n",
      "  x = np.divide(x1, x2, out)\n"
     ]
    },
    {
     "name": "stdout",
     "output_type": "stream",
     "text": [
      "Reading /home/chg-shrad/DATA/Precipitation_Global/IMERG/Africa/Daily_combined/ARC_grid/3B-DAY.MS.MRG.3IMERG.*02.nc4\n",
      "Writing /home/chg-shrad/Shrad_misc_work/Misc_projects/2019/SERVIR_AST_WA/Daily_precipitation/Data/IMERG_mean_max_daily_02.nc\n"
     ]
    },
    {
     "name": "stderr",
     "output_type": "stream",
     "text": [
      "/home/shrad/miniconda3/envs/py37-defaults/lib/python3.7/site-packages/dask/utils.py:29: RuntimeWarning: All-NaN slice encountered\n",
      "  return func(*args, **kwargs)\n",
      "/home/shrad/miniconda3/envs/py37-defaults/lib/python3.7/site-packages/toolz/functoolz.py:488: RuntimeWarning: All-NaN slice encountered\n",
      "  ret = f(ret)\n",
      "/home/shrad/miniconda3/envs/py37-defaults/lib/python3.7/site-packages/dask/array/numpy_compat.py:40: RuntimeWarning: invalid value encountered in true_divide\n",
      "  x = np.divide(x1, x2, out)\n"
     ]
    },
    {
     "name": "stdout",
     "output_type": "stream",
     "text": [
      "Reading /home/chg-shrad/DATA/Precipitation_Global/IMERG/Africa/Daily_combined/ARC_grid/3B-DAY.MS.MRG.3IMERG.*03.nc4\n",
      "Writing /home/chg-shrad/Shrad_misc_work/Misc_projects/2019/SERVIR_AST_WA/Daily_precipitation/Data/IMERG_mean_max_daily_03.nc\n"
     ]
    },
    {
     "name": "stderr",
     "output_type": "stream",
     "text": [
      "/home/shrad/miniconda3/envs/py37-defaults/lib/python3.7/site-packages/dask/utils.py:29: RuntimeWarning: All-NaN slice encountered\n",
      "  return func(*args, **kwargs)\n",
      "/home/shrad/miniconda3/envs/py37-defaults/lib/python3.7/site-packages/toolz/functoolz.py:488: RuntimeWarning: All-NaN slice encountered\n",
      "  ret = f(ret)\n",
      "/home/shrad/miniconda3/envs/py37-defaults/lib/python3.7/site-packages/dask/array/numpy_compat.py:40: RuntimeWarning: invalid value encountered in true_divide\n",
      "  x = np.divide(x1, x2, out)\n"
     ]
    },
    {
     "name": "stdout",
     "output_type": "stream",
     "text": [
      "Reading /home/chg-shrad/DATA/Precipitation_Global/IMERG/Africa/Daily_combined/ARC_grid/3B-DAY.MS.MRG.3IMERG.*04.nc4\n",
      "Writing /home/chg-shrad/Shrad_misc_work/Misc_projects/2019/SERVIR_AST_WA/Daily_precipitation/Data/IMERG_mean_max_daily_04.nc\n"
     ]
    },
    {
     "name": "stderr",
     "output_type": "stream",
     "text": [
      "/home/shrad/miniconda3/envs/py37-defaults/lib/python3.7/site-packages/dask/utils.py:29: RuntimeWarning: All-NaN slice encountered\n",
      "  return func(*args, **kwargs)\n",
      "/home/shrad/miniconda3/envs/py37-defaults/lib/python3.7/site-packages/toolz/functoolz.py:488: RuntimeWarning: All-NaN slice encountered\n",
      "  ret = f(ret)\n",
      "/home/shrad/miniconda3/envs/py37-defaults/lib/python3.7/site-packages/dask/array/numpy_compat.py:40: RuntimeWarning: invalid value encountered in true_divide\n",
      "  x = np.divide(x1, x2, out)\n"
     ]
    },
    {
     "name": "stdout",
     "output_type": "stream",
     "text": [
      "Reading /home/chg-shrad/DATA/Precipitation_Global/IMERG/Africa/Daily_combined/ARC_grid/3B-DAY.MS.MRG.3IMERG.*05.nc4\n",
      "Writing /home/chg-shrad/Shrad_misc_work/Misc_projects/2019/SERVIR_AST_WA/Daily_precipitation/Data/IMERG_mean_max_daily_05.nc\n"
     ]
    },
    {
     "name": "stderr",
     "output_type": "stream",
     "text": [
      "/home/shrad/miniconda3/envs/py37-defaults/lib/python3.7/site-packages/dask/utils.py:29: RuntimeWarning: All-NaN slice encountered\n",
      "  return func(*args, **kwargs)\n",
      "/home/shrad/miniconda3/envs/py37-defaults/lib/python3.7/site-packages/toolz/functoolz.py:488: RuntimeWarning: All-NaN slice encountered\n",
      "  ret = f(ret)\n",
      "/home/shrad/miniconda3/envs/py37-defaults/lib/python3.7/site-packages/dask/array/numpy_compat.py:40: RuntimeWarning: invalid value encountered in true_divide\n",
      "  x = np.divide(x1, x2, out)\n"
     ]
    },
    {
     "name": "stdout",
     "output_type": "stream",
     "text": [
      "Reading /home/chg-shrad/DATA/Precipitation_Global/IMERG/Africa/Daily_combined/ARC_grid/3B-DAY.MS.MRG.3IMERG.*06.nc4\n",
      "Writing /home/chg-shrad/Shrad_misc_work/Misc_projects/2019/SERVIR_AST_WA/Daily_precipitation/Data/IMERG_mean_max_daily_06.nc\n"
     ]
    },
    {
     "name": "stderr",
     "output_type": "stream",
     "text": [
      "/home/shrad/miniconda3/envs/py37-defaults/lib/python3.7/site-packages/dask/utils.py:29: RuntimeWarning: All-NaN slice encountered\n",
      "  return func(*args, **kwargs)\n",
      "/home/shrad/miniconda3/envs/py37-defaults/lib/python3.7/site-packages/toolz/functoolz.py:488: RuntimeWarning: All-NaN slice encountered\n",
      "  ret = f(ret)\n",
      "/home/shrad/miniconda3/envs/py37-defaults/lib/python3.7/site-packages/dask/array/numpy_compat.py:40: RuntimeWarning: invalid value encountered in true_divide\n",
      "  x = np.divide(x1, x2, out)\n"
     ]
    },
    {
     "name": "stdout",
     "output_type": "stream",
     "text": [
      "Reading /home/chg-shrad/DATA/Precipitation_Global/IMERG/Africa/Daily_combined/ARC_grid/3B-DAY.MS.MRG.3IMERG.*07.nc4\n",
      "Writing /home/chg-shrad/Shrad_misc_work/Misc_projects/2019/SERVIR_AST_WA/Daily_precipitation/Data/IMERG_mean_max_daily_07.nc\n"
     ]
    },
    {
     "name": "stderr",
     "output_type": "stream",
     "text": [
      "/home/shrad/miniconda3/envs/py37-defaults/lib/python3.7/site-packages/dask/utils.py:29: RuntimeWarning: All-NaN slice encountered\n",
      "  return func(*args, **kwargs)\n",
      "/home/shrad/miniconda3/envs/py37-defaults/lib/python3.7/site-packages/toolz/functoolz.py:488: RuntimeWarning: All-NaN slice encountered\n",
      "  ret = f(ret)\n",
      "/home/shrad/miniconda3/envs/py37-defaults/lib/python3.7/site-packages/dask/array/numpy_compat.py:40: RuntimeWarning: invalid value encountered in true_divide\n",
      "  x = np.divide(x1, x2, out)\n"
     ]
    },
    {
     "name": "stdout",
     "output_type": "stream",
     "text": [
      "Reading /home/chg-shrad/DATA/Precipitation_Global/IMERG/Africa/Daily_combined/ARC_grid/3B-DAY.MS.MRG.3IMERG.*08.nc4\n",
      "Writing /home/chg-shrad/Shrad_misc_work/Misc_projects/2019/SERVIR_AST_WA/Daily_precipitation/Data/IMERG_mean_max_daily_08.nc\n"
     ]
    },
    {
     "name": "stderr",
     "output_type": "stream",
     "text": [
      "/home/shrad/miniconda3/envs/py37-defaults/lib/python3.7/site-packages/dask/utils.py:29: RuntimeWarning: All-NaN slice encountered\n",
      "  return func(*args, **kwargs)\n",
      "/home/shrad/miniconda3/envs/py37-defaults/lib/python3.7/site-packages/toolz/functoolz.py:488: RuntimeWarning: All-NaN slice encountered\n",
      "  ret = f(ret)\n",
      "/home/shrad/miniconda3/envs/py37-defaults/lib/python3.7/site-packages/dask/array/numpy_compat.py:40: RuntimeWarning: invalid value encountered in true_divide\n",
      "  x = np.divide(x1, x2, out)\n"
     ]
    },
    {
     "name": "stdout",
     "output_type": "stream",
     "text": [
      "Reading /home/chg-shrad/DATA/Precipitation_Global/IMERG/Africa/Daily_combined/ARC_grid/3B-DAY.MS.MRG.3IMERG.*09.nc4\n",
      "Writing /home/chg-shrad/Shrad_misc_work/Misc_projects/2019/SERVIR_AST_WA/Daily_precipitation/Data/IMERG_mean_max_daily_09.nc\n"
     ]
    },
    {
     "name": "stderr",
     "output_type": "stream",
     "text": [
      "/home/shrad/miniconda3/envs/py37-defaults/lib/python3.7/site-packages/dask/utils.py:29: RuntimeWarning: All-NaN slice encountered\n",
      "  return func(*args, **kwargs)\n",
      "/home/shrad/miniconda3/envs/py37-defaults/lib/python3.7/site-packages/toolz/functoolz.py:488: RuntimeWarning: All-NaN slice encountered\n",
      "  ret = f(ret)\n",
      "/home/shrad/miniconda3/envs/py37-defaults/lib/python3.7/site-packages/dask/array/numpy_compat.py:40: RuntimeWarning: invalid value encountered in true_divide\n",
      "  x = np.divide(x1, x2, out)\n"
     ]
    },
    {
     "name": "stdout",
     "output_type": "stream",
     "text": [
      "Reading /home/chg-shrad/DATA/Precipitation_Global/IMERG/Africa/Daily_combined/ARC_grid/3B-DAY.MS.MRG.3IMERG.*10.nc4\n",
      "Writing /home/chg-shrad/Shrad_misc_work/Misc_projects/2019/SERVIR_AST_WA/Daily_precipitation/Data/IMERG_mean_max_daily_10.nc\n"
     ]
    },
    {
     "name": "stderr",
     "output_type": "stream",
     "text": [
      "/home/shrad/miniconda3/envs/py37-defaults/lib/python3.7/site-packages/dask/utils.py:29: RuntimeWarning: All-NaN slice encountered\n",
      "  return func(*args, **kwargs)\n",
      "/home/shrad/miniconda3/envs/py37-defaults/lib/python3.7/site-packages/toolz/functoolz.py:488: RuntimeWarning: All-NaN slice encountered\n",
      "  ret = f(ret)\n",
      "/home/shrad/miniconda3/envs/py37-defaults/lib/python3.7/site-packages/dask/array/numpy_compat.py:40: RuntimeWarning: invalid value encountered in true_divide\n",
      "  x = np.divide(x1, x2, out)\n"
     ]
    },
    {
     "name": "stdout",
     "output_type": "stream",
     "text": [
      "Reading /home/chg-shrad/DATA/Precipitation_Global/IMERG/Africa/Daily_combined/ARC_grid/3B-DAY.MS.MRG.3IMERG.*11.nc4\n",
      "Writing /home/chg-shrad/Shrad_misc_work/Misc_projects/2019/SERVIR_AST_WA/Daily_precipitation/Data/IMERG_mean_max_daily_11.nc\n"
     ]
    },
    {
     "name": "stderr",
     "output_type": "stream",
     "text": [
      "/home/shrad/miniconda3/envs/py37-defaults/lib/python3.7/site-packages/dask/utils.py:29: RuntimeWarning: All-NaN slice encountered\n",
      "  return func(*args, **kwargs)\n",
      "/home/shrad/miniconda3/envs/py37-defaults/lib/python3.7/site-packages/toolz/functoolz.py:488: RuntimeWarning: All-NaN slice encountered\n",
      "  ret = f(ret)\n",
      "/home/shrad/miniconda3/envs/py37-defaults/lib/python3.7/site-packages/dask/array/numpy_compat.py:40: RuntimeWarning: invalid value encountered in true_divide\n",
      "  x = np.divide(x1, x2, out)\n"
     ]
    },
    {
     "name": "stdout",
     "output_type": "stream",
     "text": [
      "Reading /home/chg-shrad/DATA/Precipitation_Global/IMERG/Africa/Daily_combined/ARC_grid/3B-DAY.MS.MRG.3IMERG.*12.nc4\n",
      "Writing /home/chg-shrad/Shrad_misc_work/Misc_projects/2019/SERVIR_AST_WA/Daily_precipitation/Data/IMERG_mean_max_daily_12.nc\n"
     ]
    },
    {
     "name": "stderr",
     "output_type": "stream",
     "text": [
      "/home/shrad/miniconda3/envs/py37-defaults/lib/python3.7/site-packages/dask/utils.py:29: RuntimeWarning: All-NaN slice encountered\n",
      "  return func(*args, **kwargs)\n",
      "/home/shrad/miniconda3/envs/py37-defaults/lib/python3.7/site-packages/toolz/functoolz.py:488: RuntimeWarning: All-NaN slice encountered\n",
      "  ret = f(ret)\n",
      "/home/shrad/miniconda3/envs/py37-defaults/lib/python3.7/site-packages/dask/array/numpy_compat.py:40: RuntimeWarning: invalid value encountered in true_divide\n",
      "  x = np.divide(x1, x2, out)\n"
     ]
    }
   ],
   "source": [
    "## The following calculates average of maximum monthly daily rainfall in each of the dataset for each month\n",
    "OUTFILE_template = '/home/chg-shrad/Shrad_misc_work/Misc_projects/2019/SERVIR_AST_WA/Daily_precipitation/Data/{}_mean_max_daily_{:02d}.nc'\n",
    "for MON in range(1, 13):\n",
    "    #print (\"Reading {}\".format(RFE_template.format(MON)))\n",
    "    #print (\"Reading {}\".format(ARC_template.format(MON)))\n",
    "    \n",
    "    #RFE_DATA = xr.open_mfdataset(RFE_template.format(MON), combine = 'nested', concat_dim='T')\n",
    "    #ARC_DATA = xr.open_mfdataset(ARC_template.format(MON), combine = 'nested', concat_dim='T')\n",
    "    #ARC_DATA = ARC_DATA.sel(T=(ARC_DATA.coords['T.year']>=2001) & (ARC_DATA.coords['T.year']<=2019))\n",
    "    \n",
    "    #print (\"Reading {}\".format(CHIRPS_template.format(MON)))\n",
    "    #CHIRPS_DATA = xr.open_mfdataset(CHIRPS_template.format(MON), combine = 'nested', concat_dim='time')\n",
    "    #CHIRPS_DATA = CHIRPS_DATA.sel(time=(CHIRPS_DATA.coords['time.year']>=2001) & (CHIRPS_DATA.coords['time.year']<=2019))\n",
    "        \n",
    "    #RFE_DATA = RFE_DATA.chunk({'Y':50, 'X':50})\n",
    "    #ARC_DATA = ARC_DATA.chunk({'Y':50, 'X':50})\n",
    "    #CHIRPS_DATA = CHIRPS_DATA.chunk({'Y':50, 'X':50})\n",
    "    \n",
    "    #OUTFILE = OUTFILE_template.format('RFE', MON)\n",
    "    #print (\"Writing {}\".format(OUTFILE))\n",
    "    #RFE_DATA.resample(T='A').max().mean(dim='T').to_netcdf(OUTFILE)\n",
    "    \n",
    "    #OUTFILE = OUTFILE_template.format('ARC', MON)\n",
    "    #print (\"Writing {}\".format(OUTFILE))\n",
    "    #ARC_DATA.resample(T='A').max().mean(dim='T').to_netcdf(OUTFILE)\n",
    "    \n",
    "    #OUTFILE = OUTFILE_template.format('CHIRPS', MON)\n",
    "    #print (\"Writing {}\".format(OUTFILE))\n",
    "    #CHIRPS_DATA.resample(time='A').max().mean(dim='time').to_netcdf(OUTFILE)\n",
    "    \n",
    "    print (\"Reading {}\".format(IMERG_template.format(MON)))\n",
    "    IMERG_DATA = xr.open_mfdataset(IMERG_template.format(MON), combine = 'nested', concat_dim='time')\n",
    "    IMERG_DATA = IMERG_DATA.chunk({'Y':50, 'X':50})\n",
    "    OUTFILE = OUTFILE_template.format('IMERG', MON)\n",
    "    print (\"Writing {}\".format(OUTFILE))\n",
    "    IMERG_DATA.resample(time='A').max().mean(dim='time').to_netcdf(OUTFILE)"
   ]
  },
  {
   "cell_type": "code",
   "execution_count": null,
   "metadata": {},
   "outputs": [],
   "source": []
  }
 ],
 "metadata": {
  "kernelspec": {
   "display_name": "Python 3 (ipykernel)",
   "language": "python",
   "name": "python3"
  },
  "language_info": {
   "codemirror_mode": {
    "name": "ipython",
    "version": 3
   },
   "file_extension": ".py",
   "mimetype": "text/x-python",
   "name": "python",
   "nbconvert_exporter": "python",
   "pygments_lexer": "ipython3",
   "version": "3.8.12"
  }
 },
 "nbformat": 4,
 "nbformat_minor": 4
}
